{
 "cells": [
  {
   "cell_type": "markdown",
   "metadata": {},
   "source": [
    "# Trial and Error"
   ]
  },
  {
   "cell_type": "code",
   "execution_count": 3,
   "metadata": {},
   "outputs": [],
   "source": [
    "import numpy as np"
   ]
  },
  {
   "cell_type": "code",
   "execution_count": 40,
   "metadata": {},
   "outputs": [],
   "source": [
    "A = np.array([[1,1,1,0],[2,1,0,1]])"
   ]
  },
  {
   "cell_type": "code",
   "execution_count": 65,
   "metadata": {},
   "outputs": [],
   "source": [
    "b = np.array([450,600])\n",
    "X = np.zeros(4) # Solution vector\n",
    "Z = np.array([3,4,0,0]) # Coefficients in Objective Function"
   ]
  },
  {
   "cell_type": "code",
   "execution_count": 78,
   "metadata": {},
   "outputs": [
    {
     "data": {
      "text/plain": [
       "array([[1, 1, 1, 0],\n",
       "       [2, 1, 0, 1]])"
      ]
     },
     "execution_count": 78,
     "metadata": {},
     "output_type": "execute_result"
    }
   ],
   "source": [
    "A"
   ]
  },
  {
   "cell_type": "code",
   "execution_count": 79,
   "metadata": {},
   "outputs": [],
   "source": [
    "def getCombinations(Matrix):\n",
    "    rows,cols = Matrix.shape\n",
    "    return list(combinations(range(cols) , rows))"
   ]
  },
  {
   "cell_type": "code",
   "execution_count": 9,
   "metadata": {},
   "outputs": [],
   "source": [
    "from itertools import combinations"
   ]
  },
  {
   "cell_type": "code",
   "execution_count": 83,
   "metadata": {},
   "outputs": [],
   "source": [
    "F = np.array([[2,3,2,-1,0],\n",
    "              [3,4,0, 0,0] ,\n",
    "              [6,-4,1,0,1]])\n",
    "b2 = np.array([6,8,10])"
   ]
  },
  {
   "cell_type": "code",
   "execution_count": 84,
   "metadata": {},
   "outputs": [
    {
     "data": {
      "text/plain": [
       "[(0, 1, 2),\n",
       " (0, 1, 3),\n",
       " (0, 1, 4),\n",
       " (0, 2, 3),\n",
       " (0, 2, 4),\n",
       " (0, 3, 4),\n",
       " (1, 2, 3),\n",
       " (1, 2, 4),\n",
       " (1, 3, 4),\n",
       " (2, 3, 4)]"
      ]
     },
     "execution_count": 84,
     "metadata": {},
     "output_type": "execute_result"
    }
   ],
   "source": [
    "getCombinations(F)"
   ]
  },
  {
   "cell_type": "code",
   "execution_count": 212,
   "metadata": {},
   "outputs": [],
   "source": [
    "def getBasisSol(body, bmatrix, objective):\n",
    "    variables = getCombinations(body)\n",
    "    solutions = {}\n",
    "    best = 0\n",
    "    for variable in variables:\n",
    "        try:\n",
    "            X = np.zeros(body.shape[1])\n",
    "            basis = np.linalg.solve(body[:,[v for v in variable ]] , bmatrix)\n",
    "            if np.any(basis < 0): continue # unfeasible solution\n",
    "            X[[v for v in variable]] = basis\n",
    "            Z = np.sum(X * objective)\n",
    "            solutions[variable] = [X,Z]\n",
    "            print(\"Solving for Basic {}\".format(variable), basis, X, Z )\n",
    "            if best < Z:\n",
    "                best = Z\n",
    "                sol = solutions[variable]\n",
    "        except:\n",
    "            print(\"Solving for Basic {}\".format(variable), \"Singular Matrix. There is no solution\")\n",
    "    return sol"
   ]
  },
  {
   "cell_type": "code",
   "execution_count": 214,
   "metadata": {},
   "outputs": [
    {
     "name": "stdout",
     "output_type": "stream",
     "text": [
      "Solving for Basic (0, 1) [150. 300.] [150. 300.   0.   0.] 1650.0\n",
      "Solving for Basic (0, 2) [300. 150.] [300.   0. 150.   0.] 900.0\n",
      "Solving for Basic (1, 3) [450. 150.] [  0. 450.   0. 150.] 1800.0\n",
      "Solving for Basic (2, 3) [450. 600.] [  0.   0. 450. 600.] 0.0\n"
     ]
    },
    {
     "data": {
      "text/plain": [
       "[array([  0., 450.,   0., 150.]), 1800.0]"
      ]
     },
     "execution_count": 214,
     "metadata": {},
     "output_type": "execute_result"
    }
   ],
   "source": [
    "getBasisSol(A,b,Z)"
   ]
  },
  {
   "cell_type": "code",
   "execution_count": 216,
   "metadata": {},
   "outputs": [
    {
     "name": "stdout",
     "output_type": "stream",
     "text": [
      "Solving for Basic (0, 1) [150. 300.] [150. 300.   0.   0.] 1650.0\n",
      "Solving for Basic (0, 2) [300. 150.] [300.   0. 150.   0.] 900.0\n",
      "Solving for Basic (1, 3) [450. 150.] [  0. 450.   0. 150.] 1800.0\n",
      "Solving for Basic (2, 3) [450. 600.] [  0.   0. 450. 600.] 0.0\n"
     ]
    },
    {
     "data": {
      "text/plain": [
       "[array([  0., 450.,   0., 150.]), 1800.0]"
      ]
     },
     "execution_count": 216,
     "metadata": {},
     "output_type": "execute_result"
    }
   ],
   "source": [
    "solutions = getBasisSol(A,b,Z)\n",
    "solutions\n",
    "    "
   ]
  },
  {
   "cell_type": "code",
   "execution_count": 218,
   "metadata": {},
   "outputs": [],
   "source": [
    "D = np.array([[5,4,2,1],[2,3,8,1]])\n",
    "bD = np.array([100,75])\n",
    "zD = np.array([12,8,14,10])"
   ]
  },
  {
   "cell_type": "code",
   "execution_count": 220,
   "metadata": {},
   "outputs": [
    {
     "name": "stdout",
     "output_type": "stream",
     "text": [
      "Solving for Basic (0, 1) [ 0. 25.] [ 0. 25.  0.  0.] 200.0\n",
      "Solving for Basic (0, 2) [18.05555556  4.86111111] [18.05555556  0.          4.86111111  0.        ] 284.7222222222222\n",
      "Solving for Basic (0, 3) [ 8.33333333 58.33333333] [ 8.33333333  0.          0.         58.33333333] 683.3333333333334\n",
      "Solving for Basic (1, 2) [25.  0.] [ 0. 25.  0.  0.] 200.0\n",
      "Solving for Basic (1, 3) [25.  0.] [ 0. 25.  0.  0.] 200.0\n"
     ]
    },
    {
     "data": {
      "text/plain": [
       "[array([ 8.33333333,  0.        ,  0.        , 58.33333333]),\n",
       " 683.3333333333334]"
      ]
     },
     "execution_count": 220,
     "metadata": {},
     "output_type": "execute_result"
    }
   ],
   "source": [
    "getBasisSol(D,bD,zD)"
   ]
  },
  {
   "cell_type": "code",
   "execution_count": 245,
   "metadata": {},
   "outputs": [
    {
     "name": "stdout",
     "output_type": "stream",
     "text": [
      "Solving for Basic (0, 1) [ 0. 25.] [ 0. 25.  0.  0.] 200.0\n",
      "Solving for Basic (0, 2) [18.05555556  4.86111111] [18.05555556  0.          4.86111111  0.        ] 284.7222222222222\n",
      "Solving for Basic (0, 3) [ 8.33333333 58.33333333] [ 8.33333333  0.          0.         58.33333333] 683.3333333333334\n",
      "Solving for Basic (1, 2) [25.  0.] [ 0. 25.  0.  0.] 200.0\n",
      "Solving for Basic (1, 3) [25.  0.] [ 0. 25.  0.  0.] 200.0\n"
     ]
    }
   ],
   "source": [
    "values,zvalue = getBasisSol(D,bD,zD)"
   ]
  },
  {
   "cell_type": "code",
   "execution_count": 247,
   "metadata": {},
   "outputs": [
    {
     "data": {
      "text/plain": [
       "array([ 8.33333333,  0.        ,  0.        , 58.33333333])"
      ]
     },
     "execution_count": 247,
     "metadata": {},
     "output_type": "execute_result"
    }
   ],
   "source": [
    "values"
   ]
  },
  {
   "cell_type": "code",
   "execution_count": 246,
   "metadata": {},
   "outputs": [
    {
     "data": {
      "text/plain": [
       "683.3333333333334"
      ]
     },
     "execution_count": 246,
     "metadata": {},
     "output_type": "execute_result"
    }
   ],
   "source": [
    "zvalue"
   ]
  },
  {
   "cell_type": "code",
   "execution_count": 269,
   "metadata": {},
   "outputs": [
    {
     "name": "stdout",
     "output_type": "stream",
     "text": [
      "X1 = 8.33\n",
      "X4 = 58.33\n"
     ]
    }
   ],
   "source": [
    "variables = np.where(values>0)[0]\n",
    "for v in variables:\n",
    "    print(\"X{} = {:0.2f}\".format(v+1 ,values[v]))\n"
   ]
  },
  {
   "cell_type": "code",
   "execution_count": null,
   "metadata": {},
   "outputs": [],
   "source": []
  }
 ],
 "metadata": {
  "kernelspec": {
   "display_name": "Python 3",
   "language": "python",
   "name": "python3"
  },
  "language_info": {
   "codemirror_mode": {
    "name": "ipython",
    "version": 3
   },
   "file_extension": ".py",
   "mimetype": "text/x-python",
   "name": "python",
   "nbconvert_exporter": "python",
   "pygments_lexer": "ipython3",
   "version": "3.7.1"
  }
 },
 "nbformat": 4,
 "nbformat_minor": 2
}
